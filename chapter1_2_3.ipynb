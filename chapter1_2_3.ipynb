{
 "cells": [
  {
   "cell_type": "code",
   "execution_count": 1,
   "metadata": {
    "collapsed": false
   },
   "outputs": [
    {
     "name": "stdout",
     "output_type": "stream",
     "text": [
      "3点クリックしてください\n",
      "クリックした座標: [(222.7258064516129, 278.8064516129033), (525.9516129032257, 339.45161290322585), (332.4032258064516, 229.77419354838713)]\n"
     ]
    }
   ],
   "source": [
    "from PIL import Image\n",
    "from pylab import *\n",
    "\n",
    "im = array(Image.open('empire.jpg'))\n",
    "imshow(im)\n",
    "print('3点クリックしてください')\n",
    "x = ginput(3)\n",
    "print('クリックした座標:',x)\n",
    "show()"
   ]
  },
  {
   "cell_type": "code",
   "execution_count": null,
   "metadata": {
    "collapsed": true
   },
   "outputs": [],
   "source": []
  }
 ],
 "metadata": {
  "kernelspec": {
   "display_name": "Python 3",
   "language": "python",
   "name": "python3"
  },
  "language_info": {
   "codemirror_mode": {
    "name": "ipython",
    "version": 3
   },
   "file_extension": ".py",
   "mimetype": "text/x-python",
   "name": "python",
   "nbconvert_exporter": "python",
   "pygments_lexer": "ipython3",
   "version": "3.5.1"
  }
 },
 "nbformat": 4,
 "nbformat_minor": 0
}
