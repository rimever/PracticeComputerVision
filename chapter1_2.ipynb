{
 "cells": [
  {
   "cell_type": "code",
   "execution_count": 1,
   "metadata": {
    "collapsed": true
   },
   "outputs": [],
   "source": [
    "from PIL import Image\n",
    "from pylab import *\n",
    "\n",
    "# 配列に画像を読み込む\n",
    "im = array(Image.open('empire.jpg'))\n",
    "\n",
    "# 画像を表示する\n",
    "imshow(im)\n",
    "\n",
    "x = [100,100,400,400]\n",
    "y = [200,500,200,500]\n",
    "\n",
    "# 赤い星マークで点を描画する\n",
    "plot(x,y,'r*')\n",
    "\n",
    "# 最初の2点間に線を描画する\n",
    "plot(x[:2], y[:2])\n",
    "\n",
    "# タイトルを追加し、描画結果を表示する\n",
    "title('Plotting: \"empire.jpg\"')\n",
    "show()"
   ]
  },
  {
   "cell_type": "code",
   "execution_count": null,
   "metadata": {
    "collapsed": true
   },
   "outputs": [],
   "source": []
  }
 ],
 "metadata": {
  "kernelspec": {
   "display_name": "Python 3",
   "language": "python",
   "name": "python3"
  },
  "language_info": {
   "codemirror_mode": {
    "name": "ipython",
    "version": 3
   },
   "file_extension": ".py",
   "mimetype": "text/x-python",
   "name": "python",
   "nbconvert_exporter": "python",
   "pygments_lexer": "ipython3",
   "version": "3.5.1"
  }
 },
 "nbformat": 4,
 "nbformat_minor": 0
}
